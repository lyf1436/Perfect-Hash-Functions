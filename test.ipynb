{
 "cells": [
  {
   "cell_type": "markdown",
   "metadata": {},
   "source": [
    "## 1. Define Global Constants"
   ]
  },
  {
   "cell_type": "code",
   "execution_count": 25,
   "metadata": {},
   "outputs": [],
   "source": [
    "import numpy as np\n",
    "import math\n",
    "from timeit import default_timer as timer\n",
    "universe_size =  999999937\n",
    "# 999983 # 1103 #999999937\n",
    "\n"
   ]
  },
  {
   "cell_type": "markdown",
   "metadata": {},
   "source": [
    "## 2. Construct Universal Hash Functions"
   ]
  },
  {
   "cell_type": "code",
   "execution_count": 3,
   "metadata": {},
   "outputs": [],
   "source": [
    "class CarterWegmanHash:\n",
    "    def __init__(self, table_size):\n",
    "        self.table_size = table_size\n",
    "\n",
    "        self.a = np.random.randint(1, universe_size, dtype=np.int64)\n",
    "        self.b = np.random.randint(0, universe_size, dtype=np.int64)\n",
    "\n",
    "    def hash(self, key):\n",
    "        return ((self.a * key + self.b) % universe_size) % self.table_size\n",
    "    \n",
    "    def __call__(self, key):\n",
    "        return self.hash(key)\n",
    "\n",
    "\n",
    "class CarterWegmanDictNaive:\n",
    "    # a static hash table, output size = c * input size\n",
    "    def __init__(self, input, table_size):\n",
    "        self.hash = CarterWegmanHash(table_size)\n",
    "        self.table = [[] for _ in range(table_size)]\n",
    "        for i in range(len(input)):\n",
    "            self.table[self.hash(input[i])].append(input[i])\n",
    "\n",
    "    def query(self, key):\n",
    "        list = self.table[self.hash(key)]\n",
    "        for i in range(len(list)):\n",
    "            if list[i] == key:\n",
    "                return True\n",
    "        return False\n",
    "\n",
    "class CarterWegmanDictPerfect:\n",
    "    # a static hash table, output size = c * input size\n",
    "    def __init__(self, input, table_size):\n",
    "        self.hash = CarterWegmanHash(table_size)\n",
    "        tempTable = [[] for _ in range(table_size)]\n",
    "        self.table = [None for _ in range(table_size)]\n",
    "        for i in range(len(input)):\n",
    "            tempTable[self.hash(input[i])].append(input[i])\n",
    "        for i in range(len(input)):\n",
    "            idx = self.hash(input[i])\n",
    "            list = tempTable[idx]\n",
    "            if len(list) == 0:\n",
    "                continue\n",
    "            self.table[idx] = CarterWegmanDictNaive(list, len(list)*len(list))\n",
    "\n",
    "    def query(self, key):\n",
    "        t2 = self.table[self.hash(key)]\n",
    "        if t2 == None:\n",
    "            return False\n",
    "        return t2.query(key)\n",
    "\n"
   ]
  },
  {
   "cell_type": "markdown",
   "metadata": {},
   "source": [
    "### a. Performance of naive implementation"
   ]
  },
  {
   "cell_type": "code",
   "execution_count": 120,
   "metadata": {},
   "outputs": [
    {
     "name": "stdout",
     "output_type": "stream",
     "text": [
      "mapping ratio: 3\n",
      "avg collision: 0.09249333333333333\n",
      "max collision: 6\n",
      "total colliding pairs: 8207.0\n",
      "avg query time: 1.8863140000030398e-06\n"
     ]
    }
   ],
   "source": [
    "\n",
    "input = np.random.randint(0, universe_size, 50000)\n",
    "c = 3\n",
    "dict = CarterWegmanDictNaive(input, int(len(input)*c))\n",
    "collision = 0\n",
    "col_pairs = 0\n",
    "worst = 0\n",
    "for list in dict.table:\n",
    "    if len(list) > 1:\n",
    "        collision += len(list)\n",
    "    col_pairs += len(list) * (len(list)-1) / 2\n",
    "    worst = max(worst, len(list))\n",
    "\n",
    "start = timer()\n",
    "for i in range(len(input)):\n",
    "    dict.query(input[i])\n",
    "duration = timer() - start\n",
    "\n",
    "print('mapping ratio:', c)\n",
    "print('avg collision:', collision/len(dict.table))\n",
    "print('max collision:', worst)\n",
    "print('total colliding pairs:', col_pairs)\n",
    "print('avg query time:', duration / len(input))"
   ]
  },
  {
   "cell_type": "markdown",
   "metadata": {},
   "source": [
    "### b. Performance of 2-level bootstrapped implementation"
   ]
  },
  {
   "cell_type": "code",
   "execution_count": 121,
   "metadata": {},
   "outputs": [
    {
     "name": "stdout",
     "output_type": "stream",
     "text": [
      "mapping ratio: 2.99656\n",
      "avg collision: 0.07232439796449894\n",
      "max collision: 3\n",
      "total colliding pairs: 3676.0\n",
      "avg query time: 2.993975999997929e-06\n"
     ]
    }
   ],
   "source": [
    "\n",
    "input = np.random.randint(0, universe_size, 50000)\n",
    "dict = CarterWegmanDictPerfect(input, int(len(input)))\n",
    "collision = 0\n",
    "col_pairs = 0\n",
    "worst = 0\n",
    "total_bins = 0\n",
    "\n",
    "for t2 in dict.table:\n",
    "    if t2 is not None:\n",
    "        for list in t2.table:\n",
    "            if len(list) > 1:\n",
    "                collision += len(list)\n",
    "            col_pairs += len(list) * (len(list)-1) / 2\n",
    "            worst = max(worst, len(list))\n",
    "            total_bins += 1\n",
    "\n",
    "start = timer()\n",
    "for i in range(len(input)):\n",
    "    dict.query(input[i])\n",
    "duration = timer() - start\n",
    "\n",
    "print('mapping ratio:', (total_bins+len(dict.table)) / len(input))\n",
    "print('avg collision:', collision/total_bins)\n",
    "print('max collision:', worst)\n",
    "print('total colliding pairs:', col_pairs)\n",
    "print('avg query time:', duration / len(input))"
   ]
  },
  {
   "cell_type": "markdown",
   "metadata": {},
   "source": [
    "## 3. Construct Graph-based Minimal Perfect Hash"
   ]
  },
  {
   "cell_type": "code",
   "execution_count": 257,
   "metadata": {},
   "outputs": [],
   "source": [
    "class MininalPerfectHash:\n",
    "    def __init__(self, input, v_size, r):\n",
    "        self.r = r\n",
    "        self.v_size = v_size\n",
    "        self.power = 2**math.ceil(math.log2(self.r))\n",
    "        self.n = len(input)\n",
    "\n",
    "        for _ in range(1000):\n",
    "            self.E = np.zeros((self.n, self.r), dtype=np.int64)\n",
    "            self.F = [CarterWegmanHash(self.v_size-i) for i in range(1, self.r+1, 1)]\n",
    "            for x_idx in range(self.n):\n",
    "                x = input[x_idx]\n",
    "                v = np.zeros(self.r, dtype=np.int64)\n",
    "                v[0] = self.F[0](x)\n",
    "                for i in range(1, self.r, 1):\n",
    "                    v[i] = v[0] + self.F[i](x) + 1\n",
    "                    if v[i] >= v[i-1]: v[i] += 1\n",
    "                v %= self.v_size\n",
    "                self.E[x_idx,:] = v\n",
    "            \n",
    "\n",
    "            self.first = -1 * np.ones(self.v_size, dtype=np.int64)\n",
    "            self.next = -1 * np.ones(self.v_size * self.power, dtype=np.int64)\n",
    "            self.prev = -1 * np.ones(self.v_size * self.power, dtype=np.int64)\n",
    "            self.mu = 0\n",
    "\n",
    "            for x_idx in range(self.n):\n",
    "                self.insert(self.E[x_idx,:])\n",
    "\n",
    "            self.del_e_idx = []\n",
    "            self.deleted = np.zeros(self.n, dtype=bool)  # Tracks if an edge is deleted\n",
    "            for v_idx in range(self.v_size):\n",
    "                self.recursive_delete(v_idx)\n",
    "\n",
    "            # if no cycle, then break\n",
    "            if len(self.del_e_idx) == self.n:\n",
    "                break\n",
    "        \n",
    "        print(\"Acyclitic Graph Constructed\", _)\n",
    "\n",
    "        del_e_r = self.del_e_idx[::-1]\n",
    "        # print(\"del_e_r\", del_e_r)\n",
    "        self.h_e = [0] * self.n  # Initialize with the correct unique numbers for each edge\n",
    "        self.g_v = [-1] * v_size  # Initialize with -1 for each vertex\n",
    "\n",
    "        for i in range(self.n):\n",
    "            e_idx = del_e_r[i]\n",
    "            e = self.E[e_idx]\n",
    "            self.h_e[i] = e_idx\n",
    "            \n",
    "            # Sum of g(v) for all vertices in the edge except for the unassigned ones\n",
    "            sum_g_v = 0\n",
    "            unassigned_vertices = []\n",
    "            for ve in e:\n",
    "                if self.g_v[ve] == -1:\n",
    "                    unassigned_vertices.append(ve)\n",
    "                else:\n",
    "                    sum_g_v += self.g_v[ve]\n",
    "            \n",
    "            # If there is at least one unassigned vertex\n",
    "            if unassigned_vertices:\n",
    "                # Assign the calculated value to the first unassigned vertex\n",
    "                # and set the remaining unassigned vertices to 0\n",
    "                self.g_v[unassigned_vertices[0]] = (i - sum_g_v) % self.n  #DEBUG HERE\n",
    "                for ve in unassigned_vertices[1:]:\n",
    "                    self.g_v[ve] = 0  # Set the remaining unassigned vertices to 0\n",
    "            else:\n",
    "                print(\"Error: All vertices are already assigned\")\n",
    "                break\n",
    "            # check if the hash is correct\n",
    "            testhash = 0\n",
    "            for ve in e:\n",
    "                testhash += self.g_v[ve]\n",
    "            if testhash % self.n != i: \n",
    "                print(\"Error: Hash is incorrect\")\n",
    "                break\n",
    "\n",
    "    def hash(self, x):\n",
    "        v = np.zeros(self.r, dtype=np.int64)\n",
    "        v[0] = self.F[0](x)\n",
    "        for i in range(1, self.r, 1):\n",
    "            v[i] = v[0] + self.F[i](x) + 1\n",
    "            if v[i] >= v[i-1]: v[i] += 1\n",
    "        v %= self.v_size\n",
    "\n",
    "        sum_g_v = 0\n",
    "        for i in range(self.r):\n",
    "            sum_g_v += self.g_v[v[i]]\n",
    "        e = sum_g_v % self.n\n",
    "        return self.h_e[e]\n",
    "\n",
    "    def __call__(self, x):\n",
    "        return self.hash(x)\n",
    "\n",
    "    def insert(self, v):\n",
    "        for i in range(self.r):\n",
    "            vi = v[i]\n",
    "            r_idx = self.power * self.mu + i\n",
    "            if self.first[vi] >= 0: self.prev[self.first[vi]] = r_idx\n",
    "            self.next[r_idx] = self.first[vi]\n",
    "            self.prev[r_idx] = -1\n",
    "            self.first[vi] = r_idx\n",
    "        self.mu += 1\n",
    "\n",
    "        # print(f\"After inserting edge {self.mu-1} between {v}:\")\n",
    "        # connected_edges = set()\n",
    "        # for i in range(self.r):\n",
    "        #     fn = self.first[v[i]]\n",
    "        #     while fn >= 0:\n",
    "        #         connected_edges.add(fn // self.power)\n",
    "        #         fn = self.next[fn]\n",
    "        # print(\"Connected Edges:\", connected_edges)\n",
    "        \n",
    "    def delete(self, e_idx):\n",
    "        for i in range(self.r):\n",
    "            vi = self.E[e_idx, i]\n",
    "            r_idx = self.power * e_idx + i\n",
    "            if self.prev[r_idx] < 0:\n",
    "                self.first[vi] = self.next[r_idx]\n",
    "            else:\n",
    "                self.next[self.prev[r_idx]] = self.next[r_idx]\n",
    "            if self.next[r_idx] >= 0:\n",
    "                self.prev[self.next[r_idx]] = self.prev[r_idx]\n",
    "                \n",
    "    def recursive_delete(self, v_idx):\n",
    "        if self.first[v_idx] >= 0 and self.next[self.first[v_idx]] < 0: # only one edge\n",
    "            e_idx = self.first[v_idx] // self.power # edge index\n",
    "            if not self.deleted[e_idx]:\n",
    "                self.deleted[e_idx] = True\n",
    "                self.del_e_idx.append(e_idx)\n",
    "                self.delete(e_idx)\n",
    "                for i in range(self.r):\n",
    "                    self.recursive_delete(self.E[e_idx, i])\n",
    "\n",
    "class MinimalPerfectDict:\n",
    "    def __init__(self, input, v_size, r):\n",
    "        self.table = [0] * len(input)\n",
    "        self.hash = MininalPerfectHash(input, v_size, r)\n",
    "        for i in range(len(input)):\n",
    "            self.table[self.hash(input[i])] = input[i]\n",
    "\n",
    "    def query(self, key):\n",
    "        return self.table[self.hash(key)] == key"
   ]
  },
  {
   "cell_type": "markdown",
   "metadata": {},
   "source": [
    "### Performance of the Minimal Perfect Hash"
   ]
  },
  {
   "cell_type": "code",
   "execution_count": 289,
   "metadata": {},
   "outputs": [
    {
     "name": "stdout",
     "output_type": "stream",
     "text": [
      "Acyclitic Graph Constructed 0\n",
      "mapping ratio: 3\n",
      "avg query time: 1.0830357999075203e-05\n"
     ]
    }
   ],
   "source": [
    "r = 3\n",
    "c = 3\n",
    "input = np.random.randint(0, universe_size, 50000)\n",
    "dict = MinimalPerfectDict(input, int(c * len(input)), r)\n",
    "\n",
    "start = timer()\n",
    "for i in range(len(input)):\n",
    "    dict.query(input[i])\n",
    "duration = timer() - start\n",
    "\n",
    "print('mapping ratio:', c)\n",
    "print('avg query time:', duration / len(input))"
   ]
  },
  {
   "cell_type": "markdown",
   "metadata": {},
   "source": [
    "### Show Order-Preserving Property"
   ]
  },
  {
   "cell_type": "code",
   "execution_count": 290,
   "metadata": {},
   "outputs": [
    {
     "name": "stdout",
     "output_type": "stream",
     "text": [
      "Acyclitic Graph Constructed 0\n",
      "input index: 305 hashed index: 305\n",
      "input index: 343 hashed index: 343\n",
      "input index: 43 hashed index: 43\n",
      "input index: 425 hashed index: 425\n",
      "input index: 487 hashed index: 487\n"
     ]
    }
   ],
   "source": [
    "r = 4\n",
    "c = 3\n",
    "input = np.random.randint(0, universe_size, 500)\n",
    "rand_idx = np.random.randint(0, len(input), 5)\n",
    "dict = MinimalPerfectDict(input, int(c * len(input)), r)\n",
    "\n",
    "for i in range(len(rand_idx)):\n",
    "    key = input[rand_idx[i]]\n",
    "    print(\"input index:\", rand_idx[i], \"hashed index:\", dict.hash(key))"
   ]
  }
 ],
 "metadata": {
  "kernelspec": {
   "display_name": "base",
   "language": "python",
   "name": "python3"
  },
  "language_info": {
   "codemirror_mode": {
    "name": "ipython",
    "version": 3
   },
   "file_extension": ".py",
   "mimetype": "text/x-python",
   "name": "python",
   "nbconvert_exporter": "python",
   "pygments_lexer": "ipython3",
   "version": "3.11.5"
  }
 },
 "nbformat": 4,
 "nbformat_minor": 2
}
